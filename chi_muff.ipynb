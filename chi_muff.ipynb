{
 "cells": [
  {
   "cell_type": "code",
   "execution_count": 1,
   "metadata": {},
   "outputs": [],
   "source": [
    "import tensorflow as tf\n",
    "from tensorflow import keras\n",
    "\n",
    "import numpy as np\n",
    "import matplotlib.pyplot as plt\n",
    "import glob, os\n",
    "import re \n",
    "\n",
    "import PIL\n",
    "from PIL import Image"
   ]
  },
  {
   "cell_type": "code",
   "execution_count": 2,
   "metadata": {},
   "outputs": [],
   "source": [
    "# Use Pillow library to convert an input jpeg to a 8 bit grey scale image array for processing.\n",
    "def jpeg_to_8_bit_greyscale(path, maxsize):\n",
    "    img = Image.open(path).convert('L') #convert image to 8 bit greyscale\n",
    "    # Make aspect ratio as 1:1, by applying image crop\n",
    "    # Please note, croping works for this data set, but in general one\n",
    "    # needs to locate the subject and then crop or scale accordingly.\n",
    "    WIDTH, HEIGHT = img.size\n",
    "    if WIDTH != HEIGHT:\n",
    "        m_min_d = min(WIDTH, HEIGHT)\n",
    "        img = img.crop((0, 0, m_min_d, m_min_d))\n",
    "     # Scale the image to the requested maxsize by Anti-alias sampling.\n",
    "    img.thumbnail(maxsize, PIL.Image.ANTIALIAS)\n",
    "    return np.asarray(img)"
   ]
  },
  {
   "cell_type": "code",
   "execution_count": null,
   "metadata": {},
   "outputs": [],
   "source": []
  }
 ],
 "metadata": {
  "kernelspec": {
   "display_name": "Python 3.10.4 ('dlearning')",
   "language": "python",
   "name": "python3"
  },
  "language_info": {
   "codemirror_mode": {
    "name": "ipython",
    "version": 3
   },
   "file_extension": ".py",
   "mimetype": "text/x-python",
   "name": "python",
   "nbconvert_exporter": "python",
   "pygments_lexer": "ipython3",
   "version": "3.10.4"
  },
  "orig_nbformat": 4,
  "vscode": {
   "interpreter": {
    "hash": "36fb69eab8cab6ec1024b2736e568ffc149d4b760c508b49a5e9c4595b8aa4c2"
   }
  }
 },
 "nbformat": 4,
 "nbformat_minor": 2
}
